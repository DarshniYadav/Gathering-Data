{
  "cells": [
    {
      "cell_type": "markdown",
      "metadata": {
        "id": "view-in-github",
        "colab_type": "text"
      },
      "source": [
        "<a href=\"https://colab.research.google.com/github/DarshniYadav/Gathering-Data/blob/main/dataGathering.ipynb\" target=\"_parent\"><img src=\"https://colab.research.google.com/assets/colab-badge.svg\" alt=\"Open In Colab\"/></a>"
      ]
    },
    {
      "cell_type": "code",
      "execution_count": 33,
      "metadata": {
        "id": "rtsghv6U41dV"
      },
      "outputs": [],
      "source": [
        "import tensorflow as tf\n",
        "\n",
        "text_file = tf.keras.utils.get_file(\n",
        "    fname = 'fra-rng.zip',\n",
        "    origin = \"https://storage.googleapis.com/download.tensorflow.org/data/fra-eng.zip\",\n",
        "    extract = True,\n",
        ")"
      ]
    },
    {
      "cell_type": "code",
      "execution_count": 34,
      "metadata": {
        "id": "jtLktO0J7NvK"
      },
      "outputs": [],
      "source": [
        "import pathlib\n",
        "\n",
        "text_file = pathlib.Path(text_file).parent / 'fra.txt'"
      ]
    },
    {
      "cell_type": "code",
      "execution_count": 35,
      "metadata": {
        "colab": {
          "base_uri": "https://localhost:8080/"
        },
        "id": "tcT466no8ooo",
        "outputId": "7822cb23-f09b-47ac-d26a-f896f70515a9"
      },
      "outputs": [
        {
          "output_type": "stream",
          "name": "stdout",
          "text": [
            "/root/.keras/datasets/fra.txt\n"
          ]
        }
      ],
      "source": [
        "print(text_file)"
      ]
    },
    {
      "cell_type": "code",
      "source": [
        "with open(text_file) as fp:\n",
        "  text_pair = [line for line in fp]"
      ],
      "metadata": {
        "id": "d1Q__ncbZ3B3"
      },
      "execution_count": 36,
      "outputs": []
    },
    {
      "cell_type": "code",
      "source": [
        "import random\n",
        "for _ in range(5):\n",
        "  print(random.choice(text_pair))"
      ],
      "metadata": {
        "id": "NJtLOCz2aJog",
        "colab": {
          "base_uri": "https://localhost:8080/"
        },
        "outputId": "11f1d63b-8fb9-4a14-a5bd-4f6926ee4255"
      },
      "execution_count": 37,
      "outputs": [
        {
          "output_type": "stream",
          "name": "stdout",
          "text": [
            "Children play in this park every day.\tLes enfants jouent dans le parc tous les jours.\n",
            "\n",
            "She'd never been this frightened before.\tElle n'avait jamais été aussi effrayée auparavant.\n",
            "\n",
            "You're driving too fast.\tTu conduis trop vite.\n",
            "\n",
            "I arrived at Narita the day before yesterday.\tJe suis arrivée à Narita avant-hier.\n",
            "\n",
            "What's this chair doing here?\tQue fait cette chaise ici ?\n",
            "\n"
          ]
        }
      ]
    },
    {
      "cell_type": "code",
      "source": [
        "import unicodedata\n",
        "import re\n",
        "\n",
        "def normalize(line):\n",
        "    line = unicodedata.normalize(\"NFKC\", line.strip().lower())\n",
        "    line = re.sub(r\"^([^ \\w])(?!\\s)\", r\"\\1\", line)\n",
        "    line = re.sub(r\"(\\s[^ \\w])(?!\\s)\", r\"\\1\", line)\n",
        "    line = re.sub(r\"(?!\\s)([^ \\w])$\", r\"\\1\", line)\n",
        "    line = re.sub(r\"(?!\\s)([^ \\w]\\s)\", r\"\\1\", line)\n",
        "    eng, fre = line.split(\"\\t\")\n",
        "    fre = '[start] ' + fre + ' [end]'\n",
        "    return eng, fre"
      ],
      "metadata": {
        "id": "Rn_r2PqzEAd5"
      },
      "execution_count": 54,
      "outputs": []
    },
    {
      "cell_type": "code",
      "source": [
        "with open(text_file) as fp:\n",
        "    text_pairs = [normalize(line) for line in fp]"
      ],
      "metadata": {
        "id": "Q0HBIgTKScQO"
      },
      "execution_count": 55,
      "outputs": []
    },
    {
      "cell_type": "code",
      "source": [
        "for _ in range(5):\n",
        "  print(random.choice(text_pairs))"
      ],
      "metadata": {
        "colab": {
          "base_uri": "https://localhost:8080/"
        },
        "id": "JqUe2ewyFCch",
        "outputId": "33b16f5d-ab53-48a0-9a56-b69c49e843a3"
      },
      "execution_count": 52,
      "outputs": [
        {
          "output_type": "stream",
          "name": "stdout",
          "text": [
            "('i know that tom is downstairs.', '[start] je sais que tom est en bas. [end]')\n",
            "(\"i can't feel it.\", '[start] je ne le perçois pas. [end]')\n",
            "(\"i'd like to speak with you.\", \"[start] j'aimerais te parler. [end]\")\n",
            "(\"mary must be tom's girlfriend.\", '[start] mary est sans doute la copine de tom. [end]')\n",
            "('have you ever had lunch at this restaurant?', '[start] as-tu jamais déjeuné dans ce restaurant ? [end]')\n"
          ]
        }
      ]
    },
    {
      "cell_type": "code",
      "source": [
        "eng_tokens, fre_tokens = set(), set()\n",
        "eng_maxlen, fre_maxlen = 0, 0\n",
        "for eng, fre in text_pairs:\n",
        "    eng_token, fre_token = eng.split(), fre.split()\n",
        "    eng_maxlen = max(eng_maxlen, len(eng_token))\n",
        "    fre_maxlen = max(fre_maxlen, len(fre_token))\n",
        "    eng_tokens.update(eng_token)\n",
        "    fre_tokens.update(fre_token)\n",
        "\n",
        "print(f\"Total tokens in English: {len(eng_tokens)}\")\n",
        "print(f\"Total tokens in French: {len(fre_tokens)}\")\n",
        "print(f\"Maximum length of English sequence: {eng_maxlen}\")\n",
        "print(f\"Maximum length of French sequence: {fre_maxlen}\")"
      ],
      "metadata": {
        "colab": {
          "base_uri": "https://localhost:8080/"
        },
        "id": "YXXWwyMmFO9k",
        "outputId": "8030eb3d-1dba-4963-e87f-1f6c0c65850a"
      },
      "execution_count": 56,
      "outputs": [
        {
          "output_type": "stream",
          "name": "stdout",
          "text": [
            "Total tokens in English: 25365\n",
            "Total tokens in French: 42027\n",
            "Maximum length of English sequence: 47\n",
            "Maximum length of French sequence: 56\n"
          ]
        }
      ]
    },
    {
      "cell_type": "code",
      "source": [
        "import pickle\n",
        "with open(\"text_pairs.pickle\" , 'wb') as fp:\n",
        "  pickle.dump(text_pairs, fp)"
      ],
      "metadata": {
        "id": "yY6y3FiuMFRj"
      },
      "execution_count": 57,
      "outputs": []
    }
  ],
  "metadata": {
    "colab": {
      "provenance": [],
      "authorship_tag": "ABX9TyNJiILNfIqOYgQXZ604vR6+",
      "include_colab_link": true
    },
    "kernelspec": {
      "display_name": "Python 3",
      "name": "python3"
    },
    "language_info": {
      "name": "python"
    }
  },
  "nbformat": 4,
  "nbformat_minor": 0
}